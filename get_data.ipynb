{
 "cells": [
  {
   "cell_type": "code",
   "execution_count": null,
   "metadata": {},
   "outputs": [],
   "source": [
    "# install necessary library\n",
    "from selenium import webdriver\n",
    "import pandas as pd\n",
    "from selenium.webdriver.common.by import By\n",
    "import time\n",
    "# library to tackle dropdowns\n",
    "from selenium.webdriver.support.ui import Select\n",
    "# libraries for explicit waits\n",
    "from selenium.webdriver.support.ui import WebDriverWait\n",
    "from selenium.webdriver.support import expected_conditions as EC\n",
    "# libraries to help with errors\n",
    "from selenium.common.exceptions import NoSuchElementException\n",
    "# liraries that handle anti-bot services (captcha)\n",
    "from undetected_chromedriver import Chrome\n",
    "import numpy as np"
   ]
  },
  {
   "cell_type": "code",
   "execution_count": null,
   "metadata": {},
   "outputs": [],
   "source": [
    "url = 'https://www.realtor.ca/'\n",
    "path = 'chromedriver_mac64/chromedriver'\n",
    "driver = webdriver.Chrome(path)\n",
    "driver.get(url)\n",
    "driver.maximize_window()"
   ]
  },
  {
   "cell_type": "code",
   "execution_count": null,
   "metadata": {},
   "outputs": [],
   "source": [
    "# get link to toronto real estate listings\n",
    "toronto_link = driver.find_element(By.XPATH, \"//a[@href='/on/toronto/real-estate']\")\n",
    "# click to go toronto listings page\n",
    "toronto_link.click()"
   ]
  },
  {
   "cell_type": "code",
   "execution_count": null,
   "metadata": {},
   "outputs": [],
   "source": [
    "# get filter button\n",
    "filter_button = driver.find_element(By.XPATH, \"//div[@id='mapSearchMoreBtn']\")\n",
    "# click button\n",
    "filter_button.click()"
   ]
  },
  {
   "cell_type": "code",
   "execution_count": null,
   "metadata": {},
   "outputs": [],
   "source": [
    "# find building type dropdown button\n",
    "dropdown = Select(driver.find_element(By.ID, 'ddlBuildingType'))\n",
    "# select house \n",
    "dropdown.select_by_visible_text('House')\n",
    "# get search button\n",
    "filter_search = driver.find_element(By.XPATH, \"//div[@id='mapMoreFiltersSearchBtn']\")\n",
    "# click button\n",
    "filter_search.click()\n"
   ]
  },
  {
   "cell_type": "code",
   "execution_count": null,
   "metadata": {},
   "outputs": [],
   "source": [
    "# get pagination\n",
    "pagination = driver.find_elements(\n",
    "    By.XPATH, '//select[contains(@class, \"ResultsPages\")]')\n",
    "# fet the pages for the site\n",
    "pages = pagination[1].find_elements(By.TAG_NAME, 'option')\n",
    "# get the numerical value of the last page\n",
    "last_page = int(pages[-1].text)"
   ]
  },
  {
   "cell_type": "code",
   "execution_count": null,
   "metadata": {},
   "outputs": [],
   "source": [
    "# assign original window: parent_window\n",
    "parent_window = driver.current_window_handle\n",
    "\n",
    "# make necessary empty lists to store data\n",
    "price = []\n",
    "address = []\n",
    "mls_number = []\n",
    "above_grade_bedrooms = []\n",
    "below_grade_bedrooms = []\n",
    "bathrooms = []\n",
    "community_name = []\n",
    "land_size = []\n",
    "annual_prop_tax = []"
   ]
  },
  {
   "cell_type": "code",
   "execution_count": null,
   "metadata": {},
   "outputs": [],
   "source": [
    "# define start page\n",
    "current_page = 1\n",
    "\n",
    "# check if the original page is less than the last page\n",
    "while current_page <= last_page:\n",
    "    \n",
    "    # wait for 3 seconds\n",
    "    time.sleep(3)\n",
    "\n",
    "    # get container of real estate listings\n",
    "    container = driver.find_element(By.ID, 'listInnerCon')\n",
    "    # get each listing\n",
    "    listings = container.find_elements(By.XPATH, \"./div\")\n",
    "\n",
    "    # iterate through each listing on the page\n",
    "    for listing in listings:\n",
    "        \n",
    "        # find the listing button\n",
    "        listing_button = listing.find_element(\n",
    "            By.XPATH, './/a[contains(@class,\"listingDetailsLink\")]')\n",
    "        # click listing button to open a new tab\n",
    "        listing_button.click()\n",
    "        \n",
    "        # wait 10 seconds\n",
    "        time.sleep(10)\n",
    "\n",
    "        # assing the handles of the original and new tab to handles\n",
    "        handles = driver.window_handles\n",
    "        # iterate through the window handles\n",
    "        for handle in handles:\n",
    "            # check if the current handle is not the original handle\n",
    "            if handle != parent_window:\n",
    "                # switch control to that new tab\n",
    "                driver.switch_to.window(handle)\n",
    "                # wait for 3 seconds\n",
    "                time.sleep(3)\n",
    "\n",
    "                # find all necessary data and append to their respective lists\n",
    "                # if data can not be found append Nan to their lists\n",
    "                try:\n",
    "                    price.append(driver.find_element(\n",
    "                        By.XPATH, '//div[contains(@ id, \"listingPriceValue\")]').text)\n",
    "                except NoSuchElementException:\n",
    "                    price.append(np.NaN)\n",
    "                try:\n",
    "                    address.append(driver.find_element(\n",
    "                        By.XPATH, '//h1[contains(@id, \"listingAddress\")]').text)\n",
    "                except NoSuchElementException:\n",
    "                    address.append(np.NAN)\n",
    "                try:\n",
    "                    mls_number.append(driver.find_element(\n",
    "                        By.XPATH, '//span[contains(@id, \"MLNumberVal\")]').text)\n",
    "                except NoSuchElementException:\n",
    "                    mls_number.append(np.NAN)\n",
    "                try:\n",
    "                    above_grade_bedrooms.append(driver.find_element(\n",
    "                        By.XPATH, '//div[contains(@id, \"AboveGrade\")]').text)\n",
    "                except NoSuchElementException:\n",
    "                    above_grade_bedrooms.append(np.NAN)\n",
    "                try:\n",
    "                    below_grade_bedrooms.append(driver.find_element(\n",
    "                        By.XPATH, '//div[contains(@id, \"BelowGrade\")]').text)\n",
    "                except NoSuchElementException:\n",
    "                    below_grade_bedrooms.append(np.NAN)\n",
    "                try:\n",
    "                    bathrooms.append(driver.find_element(\n",
    "                        By.XPATH, '//div[@id = \"propertyDetailsSectionVal_Total\"]').text)\n",
    "                except NoSuchElementException:\n",
    "                    bathrooms.append(np.NAN)\n",
    "                try:\n",
    "                    community_name.append(driver.find_element(\n",
    "                        By.XPATH, '//div[contains(@id,\"CommunityName\")]').text)\n",
    "                except NoSuchElementException:\n",
    "                    community_name.append(np.NAN)\n",
    "                try:\n",
    "                    land_size.append(driver.find_element(\n",
    "                        By.XPATH, '//div[contains(@id, \"LandSize\")]').text)\n",
    "                except NoSuchElementException:\n",
    "                    land_size.append(np.NAN)\n",
    "                try:\n",
    "                    annual_prop_tax.append(driver.find_element(\n",
    "                        By.XPATH, '//div[contains(@id, \"AnnualPropertyTaxes\")]').text)\n",
    "                except NoSuchElementException:\n",
    "                    annual_prop_tax.append(np.NAN)\n",
    "                driver.close()\n",
    "                driver.switch_to.window(parent_window)\n",
    "    \n",
    "    # increase current page by 1 (go to the next page)\n",
    "    current_page += 1\n",
    "    \n",
    "    # find the next page button  \n",
    "    try:\n",
    "        next_page_buttons = driver.find_elements(\n",
    "            By.XPATH, '//div[contains(@class, \"paginationLinkText\")]')\n",
    "        next_page = next_page_buttons[-2]\n",
    "        # click to go to the next page\n",
    "        next_page.click()\n",
    "    except:\n",
    "        pass"
   ]
  },
  {
   "cell_type": "code",
   "execution_count": null,
   "metadata": {},
   "outputs": [],
   "source": [
    "# end driver\n",
    "driver.quit()"
   ]
  },
  {
   "cell_type": "code",
   "execution_count": null,
   "metadata": {},
   "outputs": [],
   "source": [
    "# create dataframe\n",
    "real_estate_listings = pd.DataFrame(\n",
    "    {'mls_number':mls_number,\n",
    "     'price':price,\n",
    "     'address':address,\n",
    "     'above_grade_bedrooms':above_grade_bedrooms,\n",
    "     'below_grade_bedrooms':below_grade_bedrooms,\n",
    "     'bathrooms':bathrooms,\n",
    "     'community_name':community_name,\n",
    "     'land_size':land_size,\n",
    "     'annual_prop_tax':annual_prop_tax\n",
    "     })"
   ]
  },
  {
   "cell_type": "code",
   "execution_count": null,
   "metadata": {},
   "outputs": [],
   "source": [
    "#save to csv\n",
    "real_estate_listings.to_csv('listings.csv',index=False)"
   ]
  }
 ],
 "metadata": {
  "kernelspec": {
   "display_name": "PyPractice",
   "language": "python",
   "name": "python3"
  },
  "language_info": {
   "codemirror_mode": {
    "name": "ipython",
    "version": 3
   },
   "file_extension": ".py",
   "mimetype": "text/x-python",
   "name": "python",
   "nbconvert_exporter": "python",
   "pygments_lexer": "ipython3",
   "version": "3.8.0"
  },
  "orig_nbformat": 4,
  "vscode": {
   "interpreter": {
    "hash": "13b8e538115410ea87448d3b8733b4e206ebe2296454a4c4a03c52185c317752"
   }
  }
 },
 "nbformat": 4,
 "nbformat_minor": 2
}
